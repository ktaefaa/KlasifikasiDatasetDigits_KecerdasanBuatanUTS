{
  "nbformat": 4,
  "nbformat_minor": 0,
  "metadata": {
    "colab": {
      "provenance": [],
      "authorship_tag": "ABX9TyMQf5xPYDxTMQ15x3VWQSuy",
      "include_colab_link": true
    },
    "kernelspec": {
      "name": "python3",
      "display_name": "Python 3"
    },
    "language_info": {
      "name": "python"
    }
  },
  "cells": [
    {
      "cell_type": "markdown",
      "metadata": {
        "id": "view-in-github",
        "colab_type": "text"
      },
      "source": [
        "<a href=\"https://colab.research.google.com/github/ktaefaa/KlasifikasiDatasetDigits_KecerdasanBuatanUTS/blob/main/UTS_AI.ipynb\" target=\"_parent\"><img src=\"https://colab.research.google.com/assets/colab-badge.svg\" alt=\"Open In Colab\"/></a>"
      ]
    },
    {
      "cell_type": "code",
      "execution_count": 1,
      "metadata": {
        "id": "ySyANXDFoMSS"
      },
      "outputs": [],
      "source": [
        "import matplotlib.pyplot as plt\n",
        "%matplotlib inline\n",
        "import pylab as pl\n",
        "from sklearn.datasets import load_digits\n",
        "from sklearn.model_selection import train_test_split\n",
        "from sklearn import svm"
      ]
    },
    {
      "cell_type": "code",
      "source": [
        "digits = load_digits()"
      ],
      "metadata": {
        "id": "Cv8SfH-7oV4-"
      },
      "execution_count": 2,
      "outputs": []
    },
    {
      "cell_type": "code",
      "source": [
        "pl.gray()\n",
        "pl.matshow(digits.images[7])"
      ],
      "metadata": {
        "colab": {
          "base_uri": "https://localhost:8080/",
          "height": 311
        },
        "id": "RNAVj1xHoaDK",
        "outputId": "a050da46-c680-4426-f626-aac8b293bbd4"
      },
      "execution_count": 3,
      "outputs": [
        {
          "output_type": "execute_result",
          "data": {
            "text/plain": [
              "<matplotlib.image.AxesImage at 0x7fb4074f32d0>"
            ]
          },
          "metadata": {},
          "execution_count": 3
        },
        {
          "output_type": "display_data",
          "data": {
            "text/plain": [
              "<Figure size 432x288 with 0 Axes>"
            ]
          },
          "metadata": {}
        },
        {
          "output_type": "display_data",
          "data": {
            "text/plain": [
              "<Figure size 288x288 with 1 Axes>"
            ],
            "image/png": "[encoded data removed]"
          },
          "metadata": {
            "needs_background": "light"
          }
        }
      ]
    },
    {
      "cell_type": "code",
      "source": [
        "digits.images[7]"
      ],
      "metadata": {
        "colab": {
          "base_uri": "https://localhost:8080/"
        },
        "id": "rfwkJe_zohmT",
        "outputId": "ebebb1b7-1f66-42cc-c653-c73372e4b46d"
      },
      "execution_count": 4,
      "outputs": [
        {
          "output_type": "execute_result",
          "data": {
            "text/plain": [
              "array([[ 0.,  0.,  7.,  8., 13., 16., 15.,  1.],\n",
              "       [ 0.,  0.,  7.,  7.,  4., 11., 12.,  0.],\n",
              "       [ 0.,  0.,  0.,  0.,  8., 13.,  1.,  0.],\n",
              "       [ 0.,  4.,  8.,  8., 15., 15.,  6.,  0.],\n",
              "       [ 0.,  2., 11., 15., 15.,  4.,  0.,  0.],\n",
              "       [ 0.,  0.,  0., 16.,  5.,  0.,  0.,  0.],\n",
              "       [ 0.,  0.,  9., 15.,  1.,  0.,  0.,  0.],\n",
              "       [ 0.,  0., 13.,  5.,  0.,  0.,  0.,  0.]])"
            ]
          },
          "metadata": {},
          "execution_count": 4
        }
      ]
    },
    {
      "cell_type": "code",
      "source": [
        "images_and_labels  = list(zip(digits.images, digits.target))\n",
        "plt.figure(figsize=(5,5))\n",
        "for index, (image, label) in enumerate(images_and_labels[:15]):\n",
        "  plt.subplot(3, 5, index + 1)\n",
        "  plt.axis('off')\n",
        "  plt.imshow(image, cmap=plt.cm.gray_r, interpolation=\"nearest\")\n",
        "  plt.title('%i' % label)"
      ],
      "metadata": {
        "colab": {
          "base_uri": "https://localhost:8080/",
          "height": 287
        },
        "id": "-aAFKJ6romtz",
        "outputId": "75f57fbd-3dfe-4aae-8162-fa17bdb4adc1"
      },
      "execution_count": 5,
      "outputs": [
        {
          "output_type": "display_data",
          "data": {
            "text/plain": [
              "<Figure size 360x360 with 15 Axes>"
            ],
            "image/png": "[encoded data removed]"
          },
          "metadata": {
            "needs_background": "light"
          }
        }
      ]
    },
    {
      "cell_type": "code",
      "source": [
        "n_samples = len(digits.images)\n",
        "print(n_samples)"
      ],
      "metadata": {
        "colab": {
          "base_uri": "https://localhost:8080/"
        },
        "id": "9EcqyGI4ooFC",
        "outputId": "7ba30400-bd8e-4e25-db4a-3c01d33a0a3b"
      },
      "execution_count": 6,
      "outputs": [
        {
          "output_type": "stream",
          "name": "stdout",
          "text": [
            "1797\n"
          ]
        }
      ]
    },
    {
      "cell_type": "code",
      "source": [
        "x = digits.images.reshape((n_samples, -1)) \n",
        "y = digits.target"
      ],
      "metadata": {
        "id": "3vVrvn6lorJ7"
      },
      "execution_count": 7,
      "outputs": []
    },
    {
      "cell_type": "code",
      "source": [
        "x_train, x_test, y_train, y_test = train_test_split(x, y)\n",
        "print(x_train.shape)\n",
        "print(x_test.shape)"
      ],
      "metadata": {
        "colab": {
          "base_uri": "https://localhost:8080/"
        },
        "id": "w8RY7yInotqz",
        "outputId": "c5f21117-bc29-4c4f-c1b4-563a13334f69"
      },
      "execution_count": 9,
      "outputs": [
        {
          "output_type": "stream",
          "name": "stdout",
          "text": [
            "(1347, 64)\n",
            "(450, 64)\n"
          ]
        }
      ]
    },
    {
      "cell_type": "code",
      "source": [
        "model_linear = svm.SVC(kernel='linear', degree=3, gamma='scale')\n",
        "model_linear.fit(x_train, y_train)\n",
        "\n",
        "y_pred = model_linear.predict(x_test)"
      ],
      "metadata": {
        "id": "5HSN5dv6owUB"
      },
      "execution_count": 10,
      "outputs": []
    },
    {
      "cell_type": "code",
      "source": [
        "model_linear.score(x_test, y_test)"
      ],
      "metadata": {
        "colab": {
          "base_uri": "https://localhost:8080/"
        },
        "id": "s14Lwdt4o3hV",
        "outputId": "44a8761b-a519-4177-95f1-4d596f168d3c"
      },
      "execution_count": 11,
      "outputs": [
        {
          "output_type": "execute_result",
          "data": {
            "text/plain": [
              "0.9755555555555555"
            ]
          },
          "metadata": {},
          "execution_count": 11
        }
      ]
    },
    {
      "cell_type": "code",
      "source": [
        "model_RBF = svm.SVC(degree=3, gamma='scale', kernel='rbf')\n",
        "model_RBF.fit(x_train, y_train)\n",
        "\n",
        "y_pred2 = model_RBF.predict(x_test)\n",
        "model_RBF.score(x_test, y_test)"
      ],
      "metadata": {
        "colab": {
          "base_uri": "https://localhost:8080/"
        },
        "id": "UbHatlCXo8C6",
        "outputId": "7beb7947-3dc3-4760-f845-a2faf9bc048b"
      },
      "execution_count": 12,
      "outputs": [
        {
          "output_type": "execute_result",
          "data": {
            "text/plain": [
              "0.9844444444444445"
            ]
          },
          "metadata": {},
          "execution_count": 12
        }
      ]
    },
    {
      "cell_type": "code",
      "source": [
        "from sklearn.metrics import classification_report\n",
        "predictions = model_linear.predict(x_test)\n",
        "print(classification_report(y_test, predictions))"
      ],
      "metadata": {
        "colab": {
          "base_uri": "https://localhost:8080/"
        },
        "id": "X0C61g1Co-o-",
        "outputId": "2022137c-8a70-44af-d166-5bb2c541509d"
      },
      "execution_count": 13,
      "outputs": [
        {
          "output_type": "stream",
          "name": "stdout",
          "text": [
            "              precision    recall  f1-score   support\n",
            "\n",
            "           0       1.00      1.00      1.00        46\n",
            "           1       0.96      0.98      0.97        50\n",
            "           2       1.00      1.00      1.00        48\n",
            "           3       0.96      0.96      0.96        49\n",
            "           4       1.00      0.98      0.99        42\n",
            "           5       0.96      1.00      0.98        48\n",
            "           6       1.00      0.98      0.99        52\n",
            "           7       0.96      0.98      0.97        48\n",
            "           8       0.97      0.93      0.95        30\n",
            "           9       0.94      0.92      0.93        37\n",
            "\n",
            "    accuracy                           0.98       450\n",
            "   macro avg       0.97      0.97      0.97       450\n",
            "weighted avg       0.98      0.98      0.98       450\n",
            "\n"
          ]
        }
      ]
    }
  ]
}